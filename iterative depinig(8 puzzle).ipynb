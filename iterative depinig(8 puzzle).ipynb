{
 "cells": [
  {
   "cell_type": "markdown",
   "metadata": {
    "papermill": {
     "duration": 0.011706,
     "end_time": "2020-10-05T05:11:53.751097",
     "exception": false,
     "start_time": "2020-10-05T05:11:53.739391",
     "status": "completed"
    },
    "tags": []
   },
   "source": [
    "# 8 Puzzle Problem"
   ]
  },
  {
   "cell_type": "markdown",
   "metadata": {
    "papermill": {
     "duration": 0.010133,
     "end_time": "2020-10-05T05:11:53.772200",
     "exception": false,
     "start_time": "2020-10-05T05:11:53.762067",
     "status": "completed"
    },
    "tags": []
   },
   "source": [
    "BMS College of Engineering - Dr Kavitha Sooda <br />\n",
    "BMS College of Engineering - Dr Nagarathna N <br />\n",
    "BMS College of Engineering - Prof G R Asha  <br />\n",
    "##### Class 5C"
   ]
  },
  {
   "cell_type": "markdown",
   "metadata": {
    "papermill": {
     "duration": 0.010221,
     "end_time": "2020-10-05T05:11:53.792932",
     "exception": false,
     "start_time": "2020-10-05T05:11:53.782711",
     "status": "completed"
    },
    "tags": []
   },
   "source": [
    "## Objective\n",
    "\n",
    " Given a 3×3 board with 8 tiles and one empty space \n",
    " - Move the numbers around to match the final configuration using the empty spot \n",
    " - You can slide the numbers from above, below, left and right tiles into the empty space.\n",
    "\n",
    "![](https://media.geeksforgeeks.org/wp-content/uploads/puzzle8init.jpg)"
   ]
  },
  {
   "cell_type": "markdown",
   "metadata": {
    "papermill": {
     "duration": 0.010194,
     "end_time": "2020-10-05T05:11:53.813345",
     "exception": false,
     "start_time": "2020-10-05T05:11:53.803151",
     "status": "completed"
    },
    "tags": []
   },
   "source": [
    "### Iterative Deepening Depth First Search"
   ]
  },
  {
   "cell_type": "markdown",
   "metadata": {
    "papermill": {
     "duration": 0.010658,
     "end_time": "2020-10-05T05:11:53.834258",
     "exception": false,
     "start_time": "2020-10-05T05:11:53.823600",
     "status": "completed"
    },
    "tags": []
   },
   "source": [
    "Lets Start with a DFS function to traverse only to the given depth limit, where it checks if source equals target\n",
    "\n",
    "![](https://media.geeksforgeeks.org/wp-content/uploads/puzzle-1.jpg)"
   ]
  },
  {
   "cell_type": "code",
   "execution_count": 1,
   "metadata": {
    "execution": {
     "iopub.execute_input": "2020-10-05T05:11:53.864156Z",
     "iopub.status.busy": "2020-10-05T05:11:53.863115Z",
     "iopub.status.idle": "2020-10-05T05:11:53.866739Z",
     "shell.execute_reply": "2020-10-05T05:11:53.865998Z"
    },
    "papermill": {
     "duration": 0.022049,
     "end_time": "2020-10-05T05:11:53.866854",
     "exception": false,
     "start_time": "2020-10-05T05:11:53.844805",
     "status": "completed"
    },
    "tags": []
   },
   "outputs": [],
   "source": [
    "# Depth first search in search of target - Using Recursion\n",
    "\n",
    "def dfs(src,target,limit,visited_states):\n",
    "    if src == target:\n",
    "        return True\n",
    "    \n",
    "    if limit <=0:\n",
    "        return False\n",
    "    \n",
    "    visited_states.append(src)\n",
    "\n",
    "    adj=possible_moves(src,visited_states)\n",
    "    \n",
    "    for move in adj:\n",
    "        if dfs(move,target,limit-1,visited_states):\n",
    "            return True\n",
    "        return False\n",
    "    \n",
    "  \n",
    "       \n",
    "        \n",
    "   "
   ]
  },
  {
   "cell_type": "code",
   "execution_count": 2,
   "metadata": {
    "execution": {
     "iopub.execute_input": "2020-10-05T05:11:53.899789Z",
     "iopub.status.busy": "2020-10-05T05:11:53.898702Z",
     "iopub.status.idle": "2020-10-05T05:11:53.902011Z",
     "shell.execute_reply": "2020-10-05T05:11:53.901435Z"
    },
    "papermill": {
     "duration": 0.02457,
     "end_time": "2020-10-05T05:11:53.902135",
     "exception": false,
     "start_time": "2020-10-05T05:11:53.877565",
     "status": "completed"
    },
    "tags": []
   },
   "outputs": [],
   "source": [
    "def possible_moves(state,visited_states): \n",
    "  \n",
    "    b = state.index(-1); \n",
    "    d = []\n",
    "    ## add all possible directions using if condition\n",
    "    if b - 3 in range(9): \n",
    "        d.append('u')\n",
    "    if b not in [0,3,6]: \n",
    "        d.append('l')\n",
    "    if b not in [2,5,8]: \n",
    "        d.append('r')\n",
    "    if b + 3 in range(9): \n",
    "        d.append('d')\n",
    "        \n",
    "    pos_moves=[]\n",
    "   \n",
    "    for i in d:  # for i in \"all possble directions\"\n",
    "        temp = gen(state, i, b)\n",
    "        if temp not in visited_states:\n",
    "            pos_moves.append(temp)  \n",
    "    \n",
    "    return pos_moves\n",
    "\n",
    "\n"
   ]
  },
  {
   "cell_type": "code",
   "execution_count": 3,
   "metadata": {
    "execution": {
     "iopub.execute_input": "2020-10-05T05:11:53.934417Z",
     "iopub.status.busy": "2020-10-05T05:11:53.932996Z",
     "iopub.status.idle": "2020-10-05T05:11:53.938027Z",
     "shell.execute_reply": "2020-10-05T05:11:53.937204Z"
    },
    "papermill": {
     "duration": 0.024941,
     "end_time": "2020-10-05T05:11:53.938160",
     "exception": false,
     "start_time": "2020-10-05T05:11:53.913219",
     "status": "completed"
    },
    "tags": []
   },
   "outputs": [],
   "source": [
    "def gen(state, m, b): \n",
    "    # create a copy of current state to test the move\n",
    "    temp = state.copy()                             \n",
    "    \n",
    "    # if move is to slide empty spot to the left and so on\n",
    "    \n",
    "    if m == 'u': temp[b-3] , temp[b] = temp[b], temp[b-3]\n",
    "    if m == 'l': temp[b-1] , temp[b] = temp[b], temp[b-1]\n",
    "    if m == 'r': temp[b+1] , temp[b] = temp[b], temp[b+1]\n",
    "    if m == 'd': temp[b+3] , temp[b] = temp[b], temp[b+3]   \n",
    "   \n",
    "    # return new state with tested move to later check if \"src == target\"\n",
    "    return temp"
   ]
  },
  {
   "cell_type": "markdown",
   "metadata": {
    "papermill": {
     "duration": 0.010738,
     "end_time": "2020-10-05T05:11:53.961823",
     "exception": false,
     "start_time": "2020-10-05T05:11:53.951085",
     "status": "completed"
    },
    "tags": []
   },
   "source": [
    "In the next function:\n",
    "- Start with a depth of 1 until given depth see if target is reached To find the least depth required to find target\n",
    "- Create a visited_stated array to keep a check in all visited sites \n",
    "- Call DFS function for given depth limit"
   ]
  },
  {
   "cell_type": "code",
   "execution_count": 4,
   "metadata": {
    "execution": {
     "iopub.execute_input": "2020-10-05T05:11:53.991129Z",
     "iopub.status.busy": "2020-10-05T05:11:53.990299Z",
     "iopub.status.idle": "2020-10-05T05:11:53.993728Z",
     "shell.execute_reply": "2020-10-05T05:11:53.992987Z"
    },
    "papermill": {
     "duration": 0.020899,
     "end_time": "2020-10-05T05:11:53.993844",
     "exception": false,
     "start_time": "2020-10-05T05:11:53.972945",
     "status": "completed"
    },
    "tags": []
   },
   "outputs": [],
   "source": [
    "def iddfs(src,target,depth):\n",
    "    visited_states = []\n",
    "    \n",
    "    for i in range(1, depth+1):\n",
    "        if dfs(src, target, i, visited_states): return True\n",
    "    return False\n",
    "    \n"
   ]
  },
  {
   "cell_type": "code",
   "execution_count": 5,
   "metadata": {
    "execution": {
     "iopub.execute_input": "2020-10-05T05:11:54.025828Z",
     "iopub.status.busy": "2020-10-05T05:11:54.024783Z",
     "iopub.status.idle": "2020-10-05T05:11:54.029547Z",
     "shell.execute_reply": "2020-10-05T05:11:54.028819Z"
    },
    "papermill": {
     "duration": 0.024544,
     "end_time": "2020-10-05T05:11:54.029663",
     "exception": false,
     "start_time": "2020-10-05T05:11:54.005119",
     "status": "completed"
    },
    "tags": []
   },
   "outputs": [
    {
     "data": {
      "text/plain": [
       "False"
      ]
     },
     "execution_count": 5,
     "metadata": {},
     "output_type": "execute_result"
    }
   ],
   "source": [
    "#Test 1\n",
    "src = [1,2,3,-1,4,5,6,7,8]\n",
    "target = [1,2,3,4,5,-1,6,7,8]         \n",
    "       \n",
    "depth = 1\n",
    "iddfs(src, target, depth) # Minimum depth should be 2"
   ]
  },
  {
   "cell_type": "code",
   "execution_count": 6,
   "metadata": {
    "execution": {
     "iopub.execute_input": "2020-10-05T05:11:54.061126Z",
     "iopub.status.busy": "2020-10-05T05:11:54.060161Z",
     "iopub.status.idle": "2020-10-05T05:11:54.063943Z",
     "shell.execute_reply": "2020-10-05T05:11:54.064549Z"
    },
    "papermill": {
     "duration": 0.022981,
     "end_time": "2020-10-05T05:11:54.064701",
     "exception": false,
     "start_time": "2020-10-05T05:11:54.041720",
     "status": "completed"
    },
    "tags": []
   },
   "outputs": [
    {
     "data": {
      "text/plain": [
       "False"
      ]
     },
     "execution_count": 6,
     "metadata": {},
     "output_type": "execute_result"
    }
   ],
   "source": [
    "# Test 2\n",
    "src = [1,2,3,-1,4,5,6,7,8] \n",
    "target=[1,2,3,6,4,5,-1,7,8]\n",
    "\n",
    "depth = 1\n",
    "iddfs(src, target, depth) # Minimum depth is 1"
   ]
  },
  {
   "cell_type": "code",
   "execution_count": 7,
   "metadata": {
    "execution": {
     "iopub.execute_input": "2020-10-05T05:11:54.096259Z",
     "iopub.status.busy": "2020-10-05T05:11:54.095409Z",
     "iopub.status.idle": "2020-10-05T05:11:54.099854Z",
     "shell.execute_reply": "2020-10-05T05:11:54.099221Z"
    },
    "papermill": {
     "duration": 0.022715,
     "end_time": "2020-10-05T05:11:54.099968",
     "exception": false,
     "start_time": "2020-10-05T05:11:54.077253",
     "status": "completed"
    },
    "tags": []
   },
   "outputs": [
    {
     "data": {
      "text/plain": [
       "True"
      ]
     },
     "execution_count": 7,
     "metadata": {},
     "output_type": "execute_result"
    }
   ],
   "source": [
    "# Test 3\n",
    "# Try to create a source and target that reaches large minimum required depth \n",
    "src = None\n",
    "target = None\n",
    "\n",
    "\n",
    "\n",
    "\n",
    "\n",
    "\n",
    "iddfs(src, target, depth) # I have reached 25 in the next cell, Lets see if u can beat that"
   ]
  },
  {
   "cell_type": "code",
   "execution_count": 8,
   "metadata": {
    "execution": {
     "iopub.execute_input": "2020-10-05T05:11:54.130706Z",
     "iopub.status.busy": "2020-10-05T05:11:54.129736Z",
     "iopub.status.idle": "2020-10-05T05:11:54.133074Z",
     "shell.execute_reply": "2020-10-05T05:11:54.132405Z"
    },
    "papermill": {
     "duration": 0.020199,
     "end_time": "2020-10-05T05:11:54.133194",
     "exception": false,
     "start_time": "2020-10-05T05:11:54.112995",
     "status": "completed"
    },
    "tags": []
   },
   "outputs": [],
   "source": [
    "# Maximum Change \n",
    "# An Experiemnt I did to try and find the maximum required depth assuming \n",
    "# that this was the biggest possible change from src to target\n",
    "\n",
    "## Uncomment to try\n",
    "# src = [1, 2, 3, 4, 5, 6, 7, 8, -1]\n",
    "# target = [-1, 1, 2, 3, 4, 5, 6, 7, 8]\n",
    "\n",
    "# for i in range(1, 100):\n",
    "#     val = iddfs(src,target,i)\n",
    "#     print(i, val)\n",
    "#     if val == True:\n",
    "#         break"
   ]
  }
 ],
 "metadata": {
  "kernelspec": {
   "display_name": "Python 3",
   "language": "python",
   "name": "python3"
  },
  "language_info": {
   "codemirror_mode": {
    "name": "ipython",
    "version": 3
   },
   "file_extension": ".py",
   "mimetype": "text/x-python",
   "name": "python",
   "nbconvert_exporter": "python",
   "pygments_lexer": "ipython3",
   "version": "3.7.6"
  },
  "papermill": {
   "duration": 5.337922,
   "end_time": "2020-10-05T05:11:54.253862",
   "environment_variables": {},
   "exception": null,
   "input_path": "__notebook__.ipynb",
   "output_path": "__notebook__.ipynb",
   "parameters": {},
   "start_time": "2020-10-05T05:11:48.915940",
   "version": "2.1.0"
  }
 },
 "nbformat": 4,
 "nbformat_minor": 4
}
