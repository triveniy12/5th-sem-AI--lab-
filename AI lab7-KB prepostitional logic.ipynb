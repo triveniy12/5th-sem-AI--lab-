{
 "cells": [
  {
   "cell_type": "code",
   "execution_count": 1,
   "metadata": {
    "_cell_guid": "b1076dfc-b9ad-4769-8c92-a6c4dae69d19",
    "_uuid": "8f2839f25d086af736a60e9eeb907d3b93b6e0e5",
    "execution": {
     "iopub.execute_input": "2020-12-07T04:07:09.223550Z",
     "iopub.status.busy": "2020-12-07T04:07:09.222502Z",
     "iopub.status.idle": "2020-12-07T04:07:09.225267Z",
     "shell.execute_reply": "2020-12-07T04:07:09.225722Z"
    },
    "papermill": {
     "duration": 0.016506,
     "end_time": "2020-12-07T04:07:09.225913",
     "exception": false,
     "start_time": "2020-12-07T04:07:09.209407",
     "status": "completed"
    },
    "tags": []
   },
   "outputs": [],
   "source": [
    "\n",
    "import re\n",
    "\n",
    "def main(rules, goal):\n",
    "    rules = rules.split(' ')\n",
    "    steps = resolve(rules, goal)\n",
    "    print('\\nStep\\t|Clause\\t|Derivation\\t')\n",
    "    print('-' * 30)\n",
    "    i = 1\n",
    "    for step in steps:\n",
    "        print(f' {i}.\\t| {step}\\t| {steps[step]}\\t')\n",
    "        i += 1"
   ]
  },
  {
   "cell_type": "code",
   "execution_count": 2,
   "metadata": {
    "_cell_guid": "79c7e3d0-c299-4dcb-8224-4455121ee9b0",
    "_uuid": "d629ff2d2480ee46fbb7e2d37f6b5fab8052498a",
    "execution": {
     "iopub.execute_input": "2020-12-07T04:07:09.243721Z",
     "iopub.status.busy": "2020-12-07T04:07:09.243038Z",
     "iopub.status.idle": "2020-12-07T04:07:09.246079Z",
     "shell.execute_reply": "2020-12-07T04:07:09.245441Z"
    },
    "papermill": {
     "duration": 0.01433,
     "end_time": "2020-12-07T04:07:09.246188",
     "exception": false,
     "start_time": "2020-12-07T04:07:09.231858",
     "status": "completed"
    },
    "tags": []
   },
   "outputs": [],
   "source": [
    "\n",
    "def negate(term):\n",
    "    return f'~{term}' if term[0] != '~' else term[1]\n",
    "\n",
    "def reverse(clause):\n",
    "    if len(clause) > 2:\n",
    "        t = split_terms(clause)\n",
    "        return f'{t[1]}v{t[0]}'\n",
    "    return ''"
   ]
  },
  {
   "cell_type": "code",
   "execution_count": 3,
   "metadata": {
    "execution": {
     "iopub.execute_input": "2020-12-07T04:07:09.266582Z",
     "iopub.status.busy": "2020-12-07T04:07:09.265673Z",
     "iopub.status.idle": "2020-12-07T04:07:09.270245Z",
     "shell.execute_reply": "2020-12-07T04:07:09.269676Z"
    },
    "papermill": {
     "duration": 0.018553,
     "end_time": "2020-12-07T04:07:09.270366",
     "exception": false,
     "start_time": "2020-12-07T04:07:09.251813",
     "status": "completed"
    },
    "tags": []
   },
   "outputs": [
    {
     "data": {
      "text/plain": [
       "['~P', 'R']"
      ]
     },
     "execution_count": 3,
     "metadata": {},
     "output_type": "execute_result"
    }
   ],
   "source": [
    "def split_terms(rule):\n",
    "    exp = '(~*[PQRS])'\n",
    "    terms = re.findall(exp, rule)\n",
    "    return terms\n",
    "\n",
    "split_terms('~PvR')"
   ]
  },
  {
   "cell_type": "code",
   "execution_count": 4,
   "metadata": {
    "execution": {
     "iopub.execute_input": "2020-12-07T04:07:09.288567Z",
     "iopub.status.busy": "2020-12-07T04:07:09.287927Z",
     "iopub.status.idle": "2020-12-07T04:07:09.291015Z",
     "shell.execute_reply": "2020-12-07T04:07:09.290450Z"
    },
    "papermill": {
     "duration": 0.014197,
     "end_time": "2020-12-07T04:07:09.291129",
     "exception": false,
     "start_time": "2020-12-07T04:07:09.276932",
     "status": "completed"
    },
    "tags": []
   },
   "outputs": [],
   "source": [
    "\n",
    "def contradiction(goal, clause):\n",
    "    contradictions = [ f'{goal}v{negate(goal)}', f'{negate(goal)}v{goal}']\n",
    "    return clause in contradictions or reverse(clause) in contradictions\n"
   ]
  },
  {
   "cell_type": "code",
   "execution_count": 5,
   "metadata": {
    "execution": {
     "iopub.execute_input": "2020-12-07T04:07:09.319493Z",
     "iopub.status.busy": "2020-12-07T04:07:09.317040Z",
     "iopub.status.idle": "2020-12-07T04:07:09.322435Z",
     "shell.execute_reply": "2020-12-07T04:07:09.321950Z"
    },
    "papermill": {
     "duration": 0.025154,
     "end_time": "2020-12-07T04:07:09.322554",
     "exception": false,
     "start_time": "2020-12-07T04:07:09.297400",
     "status": "completed"
    },
    "tags": []
   },
   "outputs": [],
   "source": [
    "\n",
    "def resolve(rules, goal):\n",
    "    temp = rules.copy()\n",
    "    temp += [negate(goal)]\n",
    "    steps = dict()\n",
    "    for rule in temp:\n",
    "        steps[rule] = 'Given.'\n",
    "    steps[negate(goal)] = 'Negated conclusion.'\n",
    "    i = 0\n",
    "    while i < len(temp):\n",
    "        n = len(temp)\n",
    "        j = (i + 1) % n\n",
    "        clauses = []\n",
    "        while j != i:   \n",
    "            terms1 = split_terms(temp[i])\n",
    "            terms2 = split_terms(temp[j])\n",
    "            for c in terms1:\n",
    "                if negate(c) in terms2:\n",
    "                    t1 = [t for t in terms1 if t != c]\n",
    "                    t2 = [t for t in terms2 if t != negate(c)]\n",
    "                    gen = t1 + t2\n",
    "                    if len(gen) == 2:\n",
    "                        if gen[0] != negate(gen[1]):\n",
    "                            clauses += [f'{gen[0]}v{gen[1]}']\n",
    "                        else:\n",
    "                            if contradiction(goal,f'{gen[0]}v{gen[1]}'):\n",
    "                                temp.append(f'{gen[0]}v{gen[1]}')\n",
    "                                steps[''] = f\"Resolved {temp[i]} and {temp[j]} to {temp[-1]}, which is in turn null. \\\n",
    "                                \\nA contradiction is found when {negate(goal)} is assumed as true. Hence, {goal} is true.\"\n",
    "                                return steps\n",
    "                    elif len(gen) == 1:\n",
    "                        clauses += [f'{gen[0]}']\n",
    "                    else:\n",
    "                        if contradiction(goal,f'{terms1[0]}v{terms2[0]}'):\n",
    "                            temp.append(f'{terms1[0]}v{terms2[0]}')\n",
    "                            steps[''] = f\"Resolved {temp[i]} and {temp[j]} to {temp[-1]}, which is in turn null. \\\n",
    "                            \\nA contradiction is found when {negate(goal)} is assumed as true. Hence, {goal} is true.\"\n",
    "                            return steps\n",
    "            for clause in clauses:\n",
    "                if clause not in temp and clause != reverse(clause) and reverse(clause) not in temp:\n",
    "                    temp.append(clause)\n",
    "                    steps[clause] = f'Resolved from {temp[i]} and {temp[j]}.'\n",
    "            j = (j + 1) % n\n",
    "        i += 1\n",
    "        return steps"
   ]
  },
  {
   "cell_type": "code",
   "execution_count": 6,
   "metadata": {
    "execution": {
     "iopub.execute_input": "2020-12-07T04:07:09.341648Z",
     "iopub.status.busy": "2020-12-07T04:07:09.340641Z",
     "iopub.status.idle": "2020-12-07T04:07:09.344992Z",
     "shell.execute_reply": "2020-12-07T04:07:09.344390Z"
    },
    "papermill": {
     "duration": 0.015861,
     "end_time": "2020-12-07T04:07:09.345104",
     "exception": false,
     "start_time": "2020-12-07T04:07:09.329243",
     "status": "completed"
    },
    "tags": []
   },
   "outputs": [
    {
     "name": "stdout",
     "output_type": "stream",
     "text": [
      "\n",
      "Step\t|Clause\t|Derivation\t\n",
      "------------------------------\n",
      " 1.\t| Rv~P\t| Given.\t\n",
      " 2.\t| Rv~Q\t| Given.\t\n",
      " 3.\t| ~RvP\t| Given.\t\n",
      " 4.\t| ~RvQ\t| Given.\t\n",
      " 5.\t| ~R\t| Negated conclusion.\t\n",
      " 6.\t| \t| Resolved Rv~P and ~RvP to Rv~R, which is in turn null.                                 \n",
      "A contradiction is found when ~R is assumed as true. Hence, R is true.\t\n"
     ]
    }
   ],
   "source": [
    "\n",
    "rules = 'Rv~P Rv~Q ~RvP ~RvQ' #(P^Q)<=>R : (Rv~P)v(Rv~Q)^(~RvP)^(~RvQ)\n",
    "goal = 'R'\n",
    "main(rules, goal)"
   ]
  },
  {
   "cell_type": "code",
   "execution_count": 7,
   "metadata": {
    "execution": {
     "iopub.execute_input": "2020-12-07T04:07:09.364197Z",
     "iopub.status.busy": "2020-12-07T04:07:09.363452Z",
     "iopub.status.idle": "2020-12-07T04:07:09.367096Z",
     "shell.execute_reply": "2020-12-07T04:07:09.366486Z"
    },
    "papermill": {
     "duration": 0.015381,
     "end_time": "2020-12-07T04:07:09.367210",
     "exception": false,
     "start_time": "2020-12-07T04:07:09.351829",
     "status": "completed"
    },
    "tags": []
   },
   "outputs": [
    {
     "name": "stdout",
     "output_type": "stream",
     "text": [
      "\n",
      "Step\t|Clause\t|Derivation\t\n",
      "------------------------------\n",
      " 1.\t| PvQ\t| Given.\t\n",
      " 2.\t| ~PvR\t| Given.\t\n",
      " 3.\t| ~QvR\t| Given.\t\n",
      " 4.\t| ~R\t| Negated conclusion.\t\n",
      " 5.\t| QvR\t| Resolved from PvQ and ~PvR.\t\n",
      " 6.\t| PvR\t| Resolved from PvQ and ~QvR.\t\n"
     ]
    }
   ],
   "source": [
    "\n",
    "rules = 'PvQ ~PvR ~QvR' #P=vQ, P=>Q : ~PvQ, Q=>R, ~QvR\n",
    "goal = 'R'\n",
    "main(rules, goal)"
   ]
  },
  {
   "cell_type": "code",
   "execution_count": 8,
   "metadata": {
    "execution": {
     "iopub.execute_input": "2020-12-07T04:07:09.386996Z",
     "iopub.status.busy": "2020-12-07T04:07:09.386219Z",
     "iopub.status.idle": "2020-12-07T04:07:09.390045Z",
     "shell.execute_reply": "2020-12-07T04:07:09.391020Z"
    },
    "papermill": {
     "duration": 0.016859,
     "end_time": "2020-12-07T04:07:09.391185",
     "exception": false,
     "start_time": "2020-12-07T04:07:09.374326",
     "status": "completed"
    },
    "tags": []
   },
   "outputs": [
    {
     "name": "stdout",
     "output_type": "stream",
     "text": [
      "\n",
      "Step\t|Clause\t|Derivation\t\n",
      "------------------------------\n",
      " 1.\t| PvQ\t| Given.\t\n",
      " 2.\t| PvR\t| Given.\t\n",
      " 3.\t| ~PvR\t| Given.\t\n",
      " 4.\t| RvS\t| Given.\t\n",
      " 5.\t| Rv~Q\t| Given.\t\n",
      " 6.\t| ~Sv~Q\t| Given.\t\n",
      " 7.\t| ~R\t| Negated conclusion.\t\n",
      " 8.\t| QvR\t| Resolved from PvQ and ~PvR.\t\n",
      " 9.\t| Pv~S\t| Resolved from PvQ and ~Sv~Q.\t\n"
     ]
    }
   ],
   "source": [
    "rules = 'PvQ PvR ~PvR RvS Rv~Q ~Sv~Q' # (P=>Q)=>Q, (P=>P)=>R, (R=>S)=>~(S=>Q)\n",
    "main(rules, 'R')"
   ]
  }
 ],
 "metadata": {
  "kernelspec": {
   "display_name": "Python 3",
   "language": "python",
   "name": "python3"
  },
  "language_info": {
   "codemirror_mode": {
    "name": "ipython",
    "version": 3
   },
   "file_extension": ".py",
   "mimetype": "text/x-python",
   "name": "python",
   "nbconvert_exporter": "python",
   "pygments_lexer": "ipython3",
   "version": "3.7.6"
  },
  "papermill": {
   "duration": 5.196454,
   "end_time": "2020-12-07T04:07:09.506773",
   "environment_variables": {},
   "exception": null,
   "input_path": "__notebook__.ipynb",
   "output_path": "__notebook__.ipynb",
   "parameters": {},
   "start_time": "2020-12-07T04:07:04.310319",
   "version": "2.1.0"
  }
 },
 "nbformat": 4,
 "nbformat_minor": 4
}
